{
 "cells": [
  {
   "cell_type": "code",
   "execution_count": 11,
   "id": "initial_id",
   "metadata": {
    "collapsed": true,
    "ExecuteTime": {
     "end_time": "2024-04-25T00:16:32.632243Z",
     "start_time": "2024-04-25T00:16:32.620556Z"
    }
   },
   "outputs": [],
   "source": [
    "import pandas as pd\n",
    "import numpy as np\n",
    "import plotly.express as px\n",
    " \n",
    "import joblib\n",
    "\n",
    "\n",
    "\n",
    "## Library to split the data for training and testing\n",
    "from sklearn.model_selection import train_test_split\n",
    "\n",
    "# LSTM neural network model libraries\n",
    "from sklearn.pipeline import Pipeline\n",
    "from sklearn.preprocessing import StandardScaler\n",
    "from sklearn.model_selection import GridSearchCV\n",
    "from sklearn.metrics import mean_absolute_error, mean_squared_error, r2_score\n",
    "from keras.wrappers.scikit_learn import KerasRegressor\n",
    "from keras.models import Sequential\n",
    "from keras.layers import LSTM, Dense\n"
   ]
  },
  {
   "cell_type": "code",
   "outputs": [
    {
     "data": {
      "text/plain": "     ID Delivery_person_ID  Delivery_person_Age  Delivery_person_Ratings  \\\n0  4607     INDORES13DEL02                   37                      4.9   \n1  B379     BANGRES18DEL02                   34                      4.5   \n2  5D6D     BANGRES19DEL01                   23                      4.4   \n3  7A6A    COIMBRES13DEL02                   38                      4.7   \n4  70A2     CHENRES12DEL01                   32                      4.6   \n\n   Restaurant_latitude  Restaurant_longitude  Delivery_location_latitude  \\\n0            22.745049             75.892471                   22.765049   \n1            12.913041             77.683237                   13.043041   \n2            12.914264             77.678400                   12.924264   \n3            11.003669             76.976494                   11.053669   \n4            12.972793             80.249982                   13.012793   \n\n   Delivery_location_longitude Type_of_order Type_of_vehicle  Time_taken(min)  \n0                    75.912471        Snack      motorcycle                24  \n1                    77.813237        Snack         scooter                33  \n2                    77.688400       Drinks      motorcycle                26  \n3                    77.026494       Buffet      motorcycle                21  \n4                    80.289982        Snack         scooter                30  ",
      "text/html": "<div>\n<style scoped>\n    .dataframe tbody tr th:only-of-type {\n        vertical-align: middle;\n    }\n\n    .dataframe tbody tr th {\n        vertical-align: top;\n    }\n\n    .dataframe thead th {\n        text-align: right;\n    }\n</style>\n<table border=\"1\" class=\"dataframe\">\n  <thead>\n    <tr style=\"text-align: right;\">\n      <th></th>\n      <th>ID</th>\n      <th>Delivery_person_ID</th>\n      <th>Delivery_person_Age</th>\n      <th>Delivery_person_Ratings</th>\n      <th>Restaurant_latitude</th>\n      <th>Restaurant_longitude</th>\n      <th>Delivery_location_latitude</th>\n      <th>Delivery_location_longitude</th>\n      <th>Type_of_order</th>\n      <th>Type_of_vehicle</th>\n      <th>Time_taken(min)</th>\n    </tr>\n  </thead>\n  <tbody>\n    <tr>\n      <th>0</th>\n      <td>4607</td>\n      <td>INDORES13DEL02</td>\n      <td>37</td>\n      <td>4.9</td>\n      <td>22.745049</td>\n      <td>75.892471</td>\n      <td>22.765049</td>\n      <td>75.912471</td>\n      <td>Snack</td>\n      <td>motorcycle</td>\n      <td>24</td>\n    </tr>\n    <tr>\n      <th>1</th>\n      <td>B379</td>\n      <td>BANGRES18DEL02</td>\n      <td>34</td>\n      <td>4.5</td>\n      <td>12.913041</td>\n      <td>77.683237</td>\n      <td>13.043041</td>\n      <td>77.813237</td>\n      <td>Snack</td>\n      <td>scooter</td>\n      <td>33</td>\n    </tr>\n    <tr>\n      <th>2</th>\n      <td>5D6D</td>\n      <td>BANGRES19DEL01</td>\n      <td>23</td>\n      <td>4.4</td>\n      <td>12.914264</td>\n      <td>77.678400</td>\n      <td>12.924264</td>\n      <td>77.688400</td>\n      <td>Drinks</td>\n      <td>motorcycle</td>\n      <td>26</td>\n    </tr>\n    <tr>\n      <th>3</th>\n      <td>7A6A</td>\n      <td>COIMBRES13DEL02</td>\n      <td>38</td>\n      <td>4.7</td>\n      <td>11.003669</td>\n      <td>76.976494</td>\n      <td>11.053669</td>\n      <td>77.026494</td>\n      <td>Buffet</td>\n      <td>motorcycle</td>\n      <td>21</td>\n    </tr>\n    <tr>\n      <th>4</th>\n      <td>70A2</td>\n      <td>CHENRES12DEL01</td>\n      <td>32</td>\n      <td>4.6</td>\n      <td>12.972793</td>\n      <td>80.249982</td>\n      <td>13.012793</td>\n      <td>80.289982</td>\n      <td>Snack</td>\n      <td>scooter</td>\n      <td>30</td>\n    </tr>\n  </tbody>\n</table>\n</div>"
     },
     "execution_count": 12,
     "metadata": {},
     "output_type": "execute_result"
    }
   ],
   "source": [
    "data = pd.read_csv('data/deliverytimes.csv')\n",
    "\n",
    "data.head()"
   ],
   "metadata": {
    "collapsed": false,
    "ExecuteTime": {
     "end_time": "2024-04-25T00:16:49.344370Z",
     "start_time": "2024-04-25T00:16:34.197899Z"
    }
   },
   "id": "16f0634134ca0d98",
   "execution_count": 12
  },
  {
   "cell_type": "code",
   "outputs": [
    {
     "name": "stdout",
     "output_type": "stream",
     "text": [
      "<class 'pandas.core.frame.DataFrame'>\n",
      "RangeIndex: 45593 entries, 0 to 45592\n",
      "Data columns (total 11 columns):\n",
      " #   Column                       Non-Null Count  Dtype  \n",
      "---  ------                       --------------  -----  \n",
      " 0   ID                           45593 non-null  object \n",
      " 1   Delivery_person_ID           45593 non-null  object \n",
      " 2   Delivery_person_Age          45593 non-null  int64  \n",
      " 3   Delivery_person_Ratings      45593 non-null  float64\n",
      " 4   Restaurant_latitude          45593 non-null  float64\n",
      " 5   Restaurant_longitude         45593 non-null  float64\n",
      " 6   Delivery_location_latitude   45593 non-null  float64\n",
      " 7   Delivery_location_longitude  45593 non-null  float64\n",
      " 8   Type_of_order                45593 non-null  object \n",
      " 9   Type_of_vehicle              45593 non-null  object \n",
      " 10  Time_taken(min)              45593 non-null  int64  \n",
      "dtypes: float64(5), int64(2), object(4)\n",
      "memory usage: 3.8+ MB\n"
     ]
    }
   ],
   "source": [
    "data.info()"
   ],
   "metadata": {
    "collapsed": false,
    "ExecuteTime": {
     "end_time": "2024-04-25T00:16:53.363242Z",
     "start_time": "2024-04-25T00:16:53.341223Z"
    }
   },
   "id": "3016114769b68e27",
   "execution_count": 13
  },
  {
   "cell_type": "code",
   "outputs": [],
   "source": [
    "## Below is how we can find the distance between the restaurant and the delivery location based on their latitudes and longitudes by using the haversine formula:"
   ],
   "metadata": {
    "collapsed": false,
    "ExecuteTime": {
     "end_time": "2024-04-25T00:16:55.033074Z",
     "start_time": "2024-04-25T00:16:55.030065Z"
    }
   },
   "id": "3ab24b3390da19ad",
   "execution_count": 14
  },
  {
   "cell_type": "code",
   "outputs": [],
   "source": [
    "# Set the earth's radius (in kilometers)\n",
    "R = 6371\n",
    "\n",
    "# Convert degrees to radians\n",
    "def deg_to_rad(degrees):\n",
    "    return degrees * (np.pi/180)\n",
    "\n",
    "# Function to calculate the distance between two points using the haversine formula\n",
    "def distcalculate(lat1, lon1, lat2, lon2):\n",
    "    d_lat = deg_to_rad(lat2-lat1)\n",
    "    d_lon = deg_to_rad(lon2-lon1)\n",
    "    a = np.sin(d_lat/2)**2 + np.cos(deg_to_rad(lat1)) * np.cos(deg_to_rad(lat2)) * np.sin(d_lon/2)**2\n",
    "    c = 2 * np.arctan2(np.sqrt(a), np.sqrt(1-a))\n",
    "    return R * c\n",
    "  \n",
    "# Calculate the distance between each pair of points\n",
    "data['distance'] = np.nan\n",
    "\n",
    "## Add distance to original dataset\n",
    "\n",
    "for i in range(len(data)):\n",
    "    data.loc[i, 'distance'] = distcalculate(data.loc[i, 'Restaurant_latitude'], \n",
    "                                        data.loc[i, 'Restaurant_longitude'], \n",
    "                                        data.loc[i, 'Delivery_location_latitude'], \n",
    "                                        data.loc[i, 'Delivery_location_longitude'])"
   ],
   "metadata": {
    "collapsed": false,
    "ExecuteTime": {
     "end_time": "2024-04-25T00:17:10.340941Z",
     "start_time": "2024-04-25T00:17:03.047063Z"
    }
   },
   "id": "be605dda70dbd8d8",
   "execution_count": 15
  },
  {
   "cell_type": "code",
   "outputs": [
    {
     "data": {
      "text/plain": "     ID Delivery_person_ID  Delivery_person_Age  Delivery_person_Ratings  \\\n0  4607     INDORES13DEL02                   37                      4.9   \n1  B379     BANGRES18DEL02                   34                      4.5   \n2  5D6D     BANGRES19DEL01                   23                      4.4   \n3  7A6A    COIMBRES13DEL02                   38                      4.7   \n4  70A2     CHENRES12DEL01                   32                      4.6   \n5  9BB4      HYDRES09DEL03                   22                      4.8   \n6  95B4   RANCHIRES15DEL01                   33                      4.7   \n7  9EB2      MYSRES15DEL02                   35                      4.6   \n8  1102      HYDRES05DEL02                   22                      4.8   \n9  CDCD      DEHRES17DEL01                   36                      4.2   \n\n   Restaurant_latitude  Restaurant_longitude  Delivery_location_latitude  \\\n0            22.745049             75.892471                   22.765049   \n1            12.913041             77.683237                   13.043041   \n2            12.914264             77.678400                   12.924264   \n3            11.003669             76.976494                   11.053669   \n4            12.972793             80.249982                   13.012793   \n5            17.431668             78.408321                   17.461668   \n6            23.369746             85.339820                   23.479746   \n7            12.352058             76.606650                   12.482058   \n8            17.433809             78.386744                   17.563809   \n9            30.327968             78.046106                   30.397968   \n\n   Delivery_location_longitude Type_of_order Type_of_vehicle  Time_taken(min)  \\\n0                    75.912471        Snack      motorcycle                24   \n1                    77.813237        Snack         scooter                33   \n2                    77.688400       Drinks      motorcycle                26   \n3                    77.026494       Buffet      motorcycle                21   \n4                    80.289982        Snack         scooter                30   \n5                    78.438321       Buffet      motorcycle                26   \n6                    85.449820         Meal         scooter                40   \n7                    76.736650         Meal      motorcycle                32   \n8                    78.516744       Buffet      motorcycle                34   \n9                    78.116106        Snack      motorcycle                46   \n\n    distance  \n0   3.025149  \n1  20.183530  \n2   1.552758  \n3   7.790401  \n4   6.210138  \n5   4.610365  \n6  16.600361  \n7  20.205253  \n8  19.975520  \n9  10.280582  ",
      "text/html": "<div>\n<style scoped>\n    .dataframe tbody tr th:only-of-type {\n        vertical-align: middle;\n    }\n\n    .dataframe tbody tr th {\n        vertical-align: top;\n    }\n\n    .dataframe thead th {\n        text-align: right;\n    }\n</style>\n<table border=\"1\" class=\"dataframe\">\n  <thead>\n    <tr style=\"text-align: right;\">\n      <th></th>\n      <th>ID</th>\n      <th>Delivery_person_ID</th>\n      <th>Delivery_person_Age</th>\n      <th>Delivery_person_Ratings</th>\n      <th>Restaurant_latitude</th>\n      <th>Restaurant_longitude</th>\n      <th>Delivery_location_latitude</th>\n      <th>Delivery_location_longitude</th>\n      <th>Type_of_order</th>\n      <th>Type_of_vehicle</th>\n      <th>Time_taken(min)</th>\n      <th>distance</th>\n    </tr>\n  </thead>\n  <tbody>\n    <tr>\n      <th>0</th>\n      <td>4607</td>\n      <td>INDORES13DEL02</td>\n      <td>37</td>\n      <td>4.9</td>\n      <td>22.745049</td>\n      <td>75.892471</td>\n      <td>22.765049</td>\n      <td>75.912471</td>\n      <td>Snack</td>\n      <td>motorcycle</td>\n      <td>24</td>\n      <td>3.025149</td>\n    </tr>\n    <tr>\n      <th>1</th>\n      <td>B379</td>\n      <td>BANGRES18DEL02</td>\n      <td>34</td>\n      <td>4.5</td>\n      <td>12.913041</td>\n      <td>77.683237</td>\n      <td>13.043041</td>\n      <td>77.813237</td>\n      <td>Snack</td>\n      <td>scooter</td>\n      <td>33</td>\n      <td>20.183530</td>\n    </tr>\n    <tr>\n      <th>2</th>\n      <td>5D6D</td>\n      <td>BANGRES19DEL01</td>\n      <td>23</td>\n      <td>4.4</td>\n      <td>12.914264</td>\n      <td>77.678400</td>\n      <td>12.924264</td>\n      <td>77.688400</td>\n      <td>Drinks</td>\n      <td>motorcycle</td>\n      <td>26</td>\n      <td>1.552758</td>\n    </tr>\n    <tr>\n      <th>3</th>\n      <td>7A6A</td>\n      <td>COIMBRES13DEL02</td>\n      <td>38</td>\n      <td>4.7</td>\n      <td>11.003669</td>\n      <td>76.976494</td>\n      <td>11.053669</td>\n      <td>77.026494</td>\n      <td>Buffet</td>\n      <td>motorcycle</td>\n      <td>21</td>\n      <td>7.790401</td>\n    </tr>\n    <tr>\n      <th>4</th>\n      <td>70A2</td>\n      <td>CHENRES12DEL01</td>\n      <td>32</td>\n      <td>4.6</td>\n      <td>12.972793</td>\n      <td>80.249982</td>\n      <td>13.012793</td>\n      <td>80.289982</td>\n      <td>Snack</td>\n      <td>scooter</td>\n      <td>30</td>\n      <td>6.210138</td>\n    </tr>\n    <tr>\n      <th>5</th>\n      <td>9BB4</td>\n      <td>HYDRES09DEL03</td>\n      <td>22</td>\n      <td>4.8</td>\n      <td>17.431668</td>\n      <td>78.408321</td>\n      <td>17.461668</td>\n      <td>78.438321</td>\n      <td>Buffet</td>\n      <td>motorcycle</td>\n      <td>26</td>\n      <td>4.610365</td>\n    </tr>\n    <tr>\n      <th>6</th>\n      <td>95B4</td>\n      <td>RANCHIRES15DEL01</td>\n      <td>33</td>\n      <td>4.7</td>\n      <td>23.369746</td>\n      <td>85.339820</td>\n      <td>23.479746</td>\n      <td>85.449820</td>\n      <td>Meal</td>\n      <td>scooter</td>\n      <td>40</td>\n      <td>16.600361</td>\n    </tr>\n    <tr>\n      <th>7</th>\n      <td>9EB2</td>\n      <td>MYSRES15DEL02</td>\n      <td>35</td>\n      <td>4.6</td>\n      <td>12.352058</td>\n      <td>76.606650</td>\n      <td>12.482058</td>\n      <td>76.736650</td>\n      <td>Meal</td>\n      <td>motorcycle</td>\n      <td>32</td>\n      <td>20.205253</td>\n    </tr>\n    <tr>\n      <th>8</th>\n      <td>1102</td>\n      <td>HYDRES05DEL02</td>\n      <td>22</td>\n      <td>4.8</td>\n      <td>17.433809</td>\n      <td>78.386744</td>\n      <td>17.563809</td>\n      <td>78.516744</td>\n      <td>Buffet</td>\n      <td>motorcycle</td>\n      <td>34</td>\n      <td>19.975520</td>\n    </tr>\n    <tr>\n      <th>9</th>\n      <td>CDCD</td>\n      <td>DEHRES17DEL01</td>\n      <td>36</td>\n      <td>4.2</td>\n      <td>30.327968</td>\n      <td>78.046106</td>\n      <td>30.397968</td>\n      <td>78.116106</td>\n      <td>Snack</td>\n      <td>motorcycle</td>\n      <td>46</td>\n      <td>10.280582</td>\n    </tr>\n  </tbody>\n</table>\n</div>"
     },
     "execution_count": 16,
     "metadata": {},
     "output_type": "execute_result"
    }
   ],
   "source": [
    "data.head(10)"
   ],
   "metadata": {
    "collapsed": false,
    "ExecuteTime": {
     "end_time": "2024-04-25T00:17:10.355579Z",
     "start_time": "2024-04-25T00:17:10.343593Z"
    }
   },
   "id": "f3f948417b59cc91",
   "execution_count": 16
  },
  {
   "cell_type": "markdown",
   "source": [
    "# Exploration"
   ],
   "metadata": {
    "collapsed": false
   },
   "id": "f28b5f9956df9e9a"
  },
  {
   "cell_type": "markdown",
   "source": [
    "## Relationship Between Distance and Time Taken"
   ],
   "metadata": {
    "collapsed": false
   },
   "id": "62a214543ef8e0b2"
  },
  {
   "cell_type": "code",
   "outputs": [
    {
     "ename": "ModuleNotFoundError",
     "evalue": "No module named 'statsmodels'",
     "output_type": "error",
     "traceback": [
      "\u001B[0;31m---------------------------------------------------------------------------\u001B[0m",
      "\u001B[0;31mModuleNotFoundError\u001B[0m                       Traceback (most recent call last)",
      "Cell \u001B[0;32mIn[17], line 1\u001B[0m\n\u001B[0;32m----> 1\u001B[0m figure \u001B[38;5;241m=\u001B[39m \u001B[43mpx\u001B[49m\u001B[38;5;241;43m.\u001B[39;49m\u001B[43mscatter\u001B[49m\u001B[43m(\u001B[49m\u001B[43mdata_frame\u001B[49m\u001B[43m \u001B[49m\u001B[38;5;241;43m=\u001B[39;49m\u001B[43m \u001B[49m\u001B[43mdata\u001B[49m\u001B[43m,\u001B[49m\u001B[43m \u001B[49m\n\u001B[1;32m      2\u001B[0m \u001B[43m                    \u001B[49m\u001B[43mx\u001B[49m\u001B[38;5;241;43m=\u001B[39;49m\u001B[38;5;124;43m\"\u001B[39;49m\u001B[38;5;124;43mdistance\u001B[39;49m\u001B[38;5;124;43m\"\u001B[39;49m\u001B[43m,\u001B[49m\n\u001B[1;32m      3\u001B[0m \u001B[43m                    \u001B[49m\u001B[43my\u001B[49m\u001B[38;5;241;43m=\u001B[39;49m\u001B[38;5;124;43m\"\u001B[39;49m\u001B[38;5;124;43mTime_taken(min)\u001B[39;49m\u001B[38;5;124;43m\"\u001B[39;49m\u001B[43m,\u001B[49m\u001B[43m \u001B[49m\n\u001B[1;32m      4\u001B[0m \u001B[43m                    \u001B[49m\u001B[43msize\u001B[49m\u001B[38;5;241;43m=\u001B[39;49m\u001B[38;5;124;43m\"\u001B[39;49m\u001B[38;5;124;43mTime_taken(min)\u001B[39;49m\u001B[38;5;124;43m\"\u001B[39;49m\u001B[43m,\u001B[49m\u001B[43m \u001B[49m\n\u001B[1;32m      5\u001B[0m \u001B[43m                    \u001B[49m\u001B[43mtrendline\u001B[49m\u001B[38;5;241;43m=\u001B[39;49m\u001B[38;5;124;43m\"\u001B[39;49m\u001B[38;5;124;43mols\u001B[39;49m\u001B[38;5;124;43m\"\u001B[39;49m\u001B[43m,\u001B[49m\u001B[43m \u001B[49m\n\u001B[1;32m      6\u001B[0m \u001B[43m                    \u001B[49m\u001B[43mtitle\u001B[49m\u001B[43m \u001B[49m\u001B[38;5;241;43m=\u001B[39;49m\u001B[43m \u001B[49m\u001B[38;5;124;43m\"\u001B[39;49m\u001B[38;5;124;43mRelationship Between Distance and Time Taken\u001B[39;49m\u001B[38;5;124;43m\"\u001B[39;49m\u001B[43m)\u001B[49m\n\u001B[1;32m      7\u001B[0m figure\u001B[38;5;241m.\u001B[39mshow()\n",
      "File \u001B[0;32m~/Desktop/ULEAD/MLDevOps/Proyecto_Final_MLOps/venv/lib/python3.11/site-packages/plotly/express/_chart_types.py:66\u001B[0m, in \u001B[0;36mscatter\u001B[0;34m(data_frame, x, y, color, symbol, size, hover_name, hover_data, custom_data, text, facet_row, facet_col, facet_col_wrap, facet_row_spacing, facet_col_spacing, error_x, error_x_minus, error_y, error_y_minus, animation_frame, animation_group, category_orders, labels, orientation, color_discrete_sequence, color_discrete_map, color_continuous_scale, range_color, color_continuous_midpoint, symbol_sequence, symbol_map, opacity, size_max, marginal_x, marginal_y, trendline, trendline_options, trendline_color_override, trendline_scope, log_x, log_y, range_x, range_y, render_mode, title, template, width, height)\u001B[0m\n\u001B[1;32m     12\u001B[0m \u001B[38;5;28;01mdef\u001B[39;00m \u001B[38;5;21mscatter\u001B[39m(\n\u001B[1;32m     13\u001B[0m     data_frame\u001B[38;5;241m=\u001B[39m\u001B[38;5;28;01mNone\u001B[39;00m,\n\u001B[1;32m     14\u001B[0m     x\u001B[38;5;241m=\u001B[39m\u001B[38;5;28;01mNone\u001B[39;00m,\n\u001B[0;32m   (...)\u001B[0m\n\u001B[1;32m     60\u001B[0m     height\u001B[38;5;241m=\u001B[39m\u001B[38;5;28;01mNone\u001B[39;00m,\n\u001B[1;32m     61\u001B[0m ) \u001B[38;5;241m-\u001B[39m\u001B[38;5;241m>\u001B[39m go\u001B[38;5;241m.\u001B[39mFigure:\n\u001B[1;32m     62\u001B[0m \u001B[38;5;250m    \u001B[39m\u001B[38;5;124;03m\"\"\"\u001B[39;00m\n\u001B[1;32m     63\u001B[0m \u001B[38;5;124;03m    In a scatter plot, each row of `data_frame` is represented by a symbol\u001B[39;00m\n\u001B[1;32m     64\u001B[0m \u001B[38;5;124;03m    mark in 2D space.\u001B[39;00m\n\u001B[1;32m     65\u001B[0m \u001B[38;5;124;03m    \"\"\"\u001B[39;00m\n\u001B[0;32m---> 66\u001B[0m     \u001B[38;5;28;01mreturn\u001B[39;00m \u001B[43mmake_figure\u001B[49m\u001B[43m(\u001B[49m\u001B[43margs\u001B[49m\u001B[38;5;241;43m=\u001B[39;49m\u001B[38;5;28;43mlocals\u001B[39;49m\u001B[43m(\u001B[49m\u001B[43m)\u001B[49m\u001B[43m,\u001B[49m\u001B[43m \u001B[49m\u001B[43mconstructor\u001B[49m\u001B[38;5;241;43m=\u001B[39;49m\u001B[43mgo\u001B[49m\u001B[38;5;241;43m.\u001B[39;49m\u001B[43mScatter\u001B[49m\u001B[43m)\u001B[49m\n",
      "File \u001B[0;32m~/Desktop/ULEAD/MLDevOps/Proyecto_Final_MLOps/venv/lib/python3.11/site-packages/plotly/express/_core.py:2267\u001B[0m, in \u001B[0;36mmake_figure\u001B[0;34m(args, constructor, trace_patch, layout_patch)\u001B[0m\n\u001B[1;32m   2264\u001B[0m     \u001B[38;5;28;01melif\u001B[39;00m args[\u001B[38;5;124m\"\u001B[39m\u001B[38;5;124mecdfnorm\u001B[39m\u001B[38;5;124m\"\u001B[39m] \u001B[38;5;241m==\u001B[39m \u001B[38;5;124m\"\u001B[39m\u001B[38;5;124mpercent\u001B[39m\u001B[38;5;124m\"\u001B[39m:\n\u001B[1;32m   2265\u001B[0m         group[var] \u001B[38;5;241m=\u001B[39m \u001B[38;5;241m100.0\u001B[39m \u001B[38;5;241m*\u001B[39m group[var] \u001B[38;5;241m/\u001B[39m group_sum\n\u001B[0;32m-> 2267\u001B[0m patch, fit_results \u001B[38;5;241m=\u001B[39m \u001B[43mmake_trace_kwargs\u001B[49m\u001B[43m(\u001B[49m\n\u001B[1;32m   2268\u001B[0m \u001B[43m    \u001B[49m\u001B[43margs\u001B[49m\u001B[43m,\u001B[49m\u001B[43m \u001B[49m\u001B[43mtrace_spec\u001B[49m\u001B[43m,\u001B[49m\u001B[43m \u001B[49m\u001B[43mgroup\u001B[49m\u001B[43m,\u001B[49m\u001B[43m \u001B[49m\u001B[43mmapping_labels\u001B[49m\u001B[38;5;241;43m.\u001B[39;49m\u001B[43mcopy\u001B[49m\u001B[43m(\u001B[49m\u001B[43m)\u001B[49m\u001B[43m,\u001B[49m\u001B[43m \u001B[49m\u001B[43msizeref\u001B[49m\n\u001B[1;32m   2269\u001B[0m \u001B[43m\u001B[49m\u001B[43m)\u001B[49m\n\u001B[1;32m   2270\u001B[0m trace\u001B[38;5;241m.\u001B[39mupdate(patch)\n\u001B[1;32m   2271\u001B[0m \u001B[38;5;28;01mif\u001B[39;00m fit_results \u001B[38;5;129;01mis\u001B[39;00m \u001B[38;5;129;01mnot\u001B[39;00m \u001B[38;5;28;01mNone\u001B[39;00m:\n",
      "File \u001B[0;32m~/Desktop/ULEAD/MLDevOps/Proyecto_Final_MLOps/venv/lib/python3.11/site-packages/plotly/express/_core.py:361\u001B[0m, in \u001B[0;36mmake_trace_kwargs\u001B[0;34m(args, trace_spec, trace_data, mapping_labels, sizeref)\u001B[0m\n\u001B[1;32m    359\u001B[0m trace_patch[\u001B[38;5;124m\"\u001B[39m\u001B[38;5;124mx\u001B[39m\u001B[38;5;124m\"\u001B[39m] \u001B[38;5;241m=\u001B[39m sorted_trace_data[args[\u001B[38;5;124m\"\u001B[39m\u001B[38;5;124mx\u001B[39m\u001B[38;5;124m\"\u001B[39m]][non_missing]\n\u001B[1;32m    360\u001B[0m trendline_function \u001B[38;5;241m=\u001B[39m trendline_functions[attr_value]\n\u001B[0;32m--> 361\u001B[0m y_out, hover_header, fit_results \u001B[38;5;241m=\u001B[39m \u001B[43mtrendline_function\u001B[49m\u001B[43m(\u001B[49m\n\u001B[1;32m    362\u001B[0m \u001B[43m    \u001B[49m\u001B[43margs\u001B[49m\u001B[43m[\u001B[49m\u001B[38;5;124;43m\"\u001B[39;49m\u001B[38;5;124;43mtrendline_options\u001B[39;49m\u001B[38;5;124;43m\"\u001B[39;49m\u001B[43m]\u001B[49m\u001B[43m,\u001B[49m\n\u001B[1;32m    363\u001B[0m \u001B[43m    \u001B[49m\u001B[43msorted_trace_data\u001B[49m\u001B[43m[\u001B[49m\u001B[43margs\u001B[49m\u001B[43m[\u001B[49m\u001B[38;5;124;43m\"\u001B[39;49m\u001B[38;5;124;43mx\u001B[39;49m\u001B[38;5;124;43m\"\u001B[39;49m\u001B[43m]\u001B[49m\u001B[43m]\u001B[49m\u001B[43m,\u001B[49m\n\u001B[1;32m    364\u001B[0m \u001B[43m    \u001B[49m\u001B[43mx\u001B[49m\u001B[43m,\u001B[49m\n\u001B[1;32m    365\u001B[0m \u001B[43m    \u001B[49m\u001B[43my\u001B[49m\u001B[43m,\u001B[49m\n\u001B[1;32m    366\u001B[0m \u001B[43m    \u001B[49m\u001B[43margs\u001B[49m\u001B[43m[\u001B[49m\u001B[38;5;124;43m\"\u001B[39;49m\u001B[38;5;124;43mx\u001B[39;49m\u001B[38;5;124;43m\"\u001B[39;49m\u001B[43m]\u001B[49m\u001B[43m,\u001B[49m\n\u001B[1;32m    367\u001B[0m \u001B[43m    \u001B[49m\u001B[43margs\u001B[49m\u001B[43m[\u001B[49m\u001B[38;5;124;43m\"\u001B[39;49m\u001B[38;5;124;43my\u001B[39;49m\u001B[38;5;124;43m\"\u001B[39;49m\u001B[43m]\u001B[49m\u001B[43m,\u001B[49m\n\u001B[1;32m    368\u001B[0m \u001B[43m    \u001B[49m\u001B[43mnon_missing\u001B[49m\u001B[43m,\u001B[49m\n\u001B[1;32m    369\u001B[0m \u001B[43m\u001B[49m\u001B[43m)\u001B[49m\n\u001B[1;32m    370\u001B[0m \u001B[38;5;28;01massert\u001B[39;00m \u001B[38;5;28mlen\u001B[39m(y_out) \u001B[38;5;241m==\u001B[39m \u001B[38;5;28mlen\u001B[39m(\n\u001B[1;32m    371\u001B[0m     trace_patch[\u001B[38;5;124m\"\u001B[39m\u001B[38;5;124mx\u001B[39m\u001B[38;5;124m\"\u001B[39m]\n\u001B[1;32m    372\u001B[0m ), \u001B[38;5;124m\"\u001B[39m\u001B[38;5;124mmissing-data-handling failure in trendline code\u001B[39m\u001B[38;5;124m\"\u001B[39m\n\u001B[1;32m    373\u001B[0m trace_patch[\u001B[38;5;124m\"\u001B[39m\u001B[38;5;124my\u001B[39m\u001B[38;5;124m\"\u001B[39m] \u001B[38;5;241m=\u001B[39m y_out\n",
      "File \u001B[0;32m~/Desktop/ULEAD/MLDevOps/Proyecto_Final_MLOps/venv/lib/python3.11/site-packages/plotly/express/trendline_functions/__init__.py:43\u001B[0m, in \u001B[0;36mols\u001B[0;34m(trendline_options, x_raw, x, y, x_label, y_label, non_missing)\u001B[0m\n\u001B[1;32m     37\u001B[0m     \u001B[38;5;28;01mif\u001B[39;00m k \u001B[38;5;129;01mnot\u001B[39;00m \u001B[38;5;129;01min\u001B[39;00m valid_options:\n\u001B[1;32m     38\u001B[0m         \u001B[38;5;28;01mraise\u001B[39;00m \u001B[38;5;167;01mValueError\u001B[39;00m(\n\u001B[1;32m     39\u001B[0m             \u001B[38;5;124m\"\u001B[39m\u001B[38;5;124mOLS trendline_options keys must be one of [\u001B[39m\u001B[38;5;132;01m%s\u001B[39;00m\u001B[38;5;124m] but got \u001B[39m\u001B[38;5;124m'\u001B[39m\u001B[38;5;132;01m%s\u001B[39;00m\u001B[38;5;124m'\u001B[39m\u001B[38;5;124m\"\u001B[39m\n\u001B[1;32m     40\u001B[0m             \u001B[38;5;241m%\u001B[39m (\u001B[38;5;124m\"\u001B[39m\u001B[38;5;124m, \u001B[39m\u001B[38;5;124m\"\u001B[39m\u001B[38;5;241m.\u001B[39mjoin(valid_options), k)\n\u001B[1;32m     41\u001B[0m         )\n\u001B[0;32m---> 43\u001B[0m \u001B[38;5;28;01mimport\u001B[39;00m \u001B[38;5;21;01mstatsmodels\u001B[39;00m\u001B[38;5;21;01m.\u001B[39;00m\u001B[38;5;21;01mapi\u001B[39;00m \u001B[38;5;28;01mas\u001B[39;00m \u001B[38;5;21;01msm\u001B[39;00m\n\u001B[1;32m     45\u001B[0m add_constant \u001B[38;5;241m=\u001B[39m trendline_options\u001B[38;5;241m.\u001B[39mget(\u001B[38;5;124m\"\u001B[39m\u001B[38;5;124madd_constant\u001B[39m\u001B[38;5;124m\"\u001B[39m, \u001B[38;5;28;01mTrue\u001B[39;00m)\n\u001B[1;32m     46\u001B[0m log_x \u001B[38;5;241m=\u001B[39m trendline_options\u001B[38;5;241m.\u001B[39mget(\u001B[38;5;124m\"\u001B[39m\u001B[38;5;124mlog_x\u001B[39m\u001B[38;5;124m\"\u001B[39m, \u001B[38;5;28;01mFalse\u001B[39;00m)\n",
      "\u001B[0;31mModuleNotFoundError\u001B[0m: No module named 'statsmodels'"
     ]
    }
   ],
   "source": [
    "figure = px.scatter(data_frame = data, \n",
    "                    x=\"distance\",\n",
    "                    y=\"Time_taken(min)\", \n",
    "                    size=\"Time_taken(min)\", \n",
    "                    trendline=\"ols\", \n",
    "                    title = \"Relationship Between Distance and Time Taken\")\n",
    "figure.show()"
   ],
   "metadata": {
    "collapsed": false,
    "ExecuteTime": {
     "end_time": "2024-04-25T00:17:11.645611Z",
     "start_time": "2024-04-25T00:17:11.536456Z"
    }
   },
   "id": "575398797794995a",
   "execution_count": 17
  },
  {
   "cell_type": "code",
   "outputs": [
    {
     "ename": "ModuleNotFoundError",
     "evalue": "No module named 'statsmodels'",
     "output_type": "error",
     "traceback": [
      "\u001B[0;31m---------------------------------------------------------------------------\u001B[0m",
      "\u001B[0;31mModuleNotFoundError\u001B[0m                       Traceback (most recent call last)",
      "Cell \u001B[0;32mIn[18], line 1\u001B[0m\n\u001B[0;32m----> 1\u001B[0m figure \u001B[38;5;241m=\u001B[39m \u001B[43mpx\u001B[49m\u001B[38;5;241;43m.\u001B[39;49m\u001B[43mscatter\u001B[49m\u001B[43m(\u001B[49m\u001B[43mdata_frame\u001B[49m\u001B[43m \u001B[49m\u001B[38;5;241;43m=\u001B[39;49m\u001B[43m \u001B[49m\u001B[43mdata\u001B[49m\u001B[43m,\u001B[49m\u001B[43m \u001B[49m\n\u001B[1;32m      2\u001B[0m \u001B[43m                    \u001B[49m\u001B[43mx\u001B[49m\u001B[38;5;241;43m=\u001B[39;49m\u001B[38;5;124;43m\"\u001B[39;49m\u001B[38;5;124;43mDelivery_person_Age\u001B[39;49m\u001B[38;5;124;43m\"\u001B[39;49m\u001B[43m,\u001B[49m\n\u001B[1;32m      3\u001B[0m \u001B[43m                    \u001B[49m\u001B[43my\u001B[49m\u001B[38;5;241;43m=\u001B[39;49m\u001B[38;5;124;43m\"\u001B[39;49m\u001B[38;5;124;43mTime_taken(min)\u001B[39;49m\u001B[38;5;124;43m\"\u001B[39;49m\u001B[43m,\u001B[49m\u001B[43m \u001B[49m\n\u001B[1;32m      4\u001B[0m \u001B[43m                    \u001B[49m\u001B[43msize\u001B[49m\u001B[38;5;241;43m=\u001B[39;49m\u001B[38;5;124;43m\"\u001B[39;49m\u001B[38;5;124;43mTime_taken(min)\u001B[39;49m\u001B[38;5;124;43m\"\u001B[39;49m\u001B[43m,\u001B[49m\u001B[43m \u001B[49m\n\u001B[1;32m      5\u001B[0m \u001B[43m                    \u001B[49m\u001B[43mcolor\u001B[49m\u001B[43m \u001B[49m\u001B[38;5;241;43m=\u001B[39;49m\u001B[43m \u001B[49m\u001B[38;5;124;43m\"\u001B[39;49m\u001B[38;5;124;43mdistance\u001B[39;49m\u001B[38;5;124;43m\"\u001B[39;49m\u001B[43m,\u001B[49m\n\u001B[1;32m      6\u001B[0m \u001B[43m                    \u001B[49m\u001B[43mtrendline\u001B[49m\u001B[38;5;241;43m=\u001B[39;49m\u001B[38;5;124;43m\"\u001B[39;49m\u001B[38;5;124;43mols\u001B[39;49m\u001B[38;5;124;43m\"\u001B[39;49m\u001B[43m,\u001B[49m\u001B[43m \u001B[49m\n\u001B[1;32m      7\u001B[0m \u001B[43m                    \u001B[49m\u001B[43mtitle\u001B[49m\u001B[43m \u001B[49m\u001B[38;5;241;43m=\u001B[39;49m\u001B[43m \u001B[49m\u001B[38;5;124;43m\"\u001B[39;49m\u001B[38;5;124;43mRelationship Between Time Taken and Age\u001B[39;49m\u001B[38;5;124;43m\"\u001B[39;49m\u001B[43m)\u001B[49m\n\u001B[1;32m      8\u001B[0m figure\u001B[38;5;241m.\u001B[39mshow()\n",
      "File \u001B[0;32m~/Desktop/ULEAD/MLDevOps/Proyecto_Final_MLOps/venv/lib/python3.11/site-packages/plotly/express/_chart_types.py:66\u001B[0m, in \u001B[0;36mscatter\u001B[0;34m(data_frame, x, y, color, symbol, size, hover_name, hover_data, custom_data, text, facet_row, facet_col, facet_col_wrap, facet_row_spacing, facet_col_spacing, error_x, error_x_minus, error_y, error_y_minus, animation_frame, animation_group, category_orders, labels, orientation, color_discrete_sequence, color_discrete_map, color_continuous_scale, range_color, color_continuous_midpoint, symbol_sequence, symbol_map, opacity, size_max, marginal_x, marginal_y, trendline, trendline_options, trendline_color_override, trendline_scope, log_x, log_y, range_x, range_y, render_mode, title, template, width, height)\u001B[0m\n\u001B[1;32m     12\u001B[0m \u001B[38;5;28;01mdef\u001B[39;00m \u001B[38;5;21mscatter\u001B[39m(\n\u001B[1;32m     13\u001B[0m     data_frame\u001B[38;5;241m=\u001B[39m\u001B[38;5;28;01mNone\u001B[39;00m,\n\u001B[1;32m     14\u001B[0m     x\u001B[38;5;241m=\u001B[39m\u001B[38;5;28;01mNone\u001B[39;00m,\n\u001B[0;32m   (...)\u001B[0m\n\u001B[1;32m     60\u001B[0m     height\u001B[38;5;241m=\u001B[39m\u001B[38;5;28;01mNone\u001B[39;00m,\n\u001B[1;32m     61\u001B[0m ) \u001B[38;5;241m-\u001B[39m\u001B[38;5;241m>\u001B[39m go\u001B[38;5;241m.\u001B[39mFigure:\n\u001B[1;32m     62\u001B[0m \u001B[38;5;250m    \u001B[39m\u001B[38;5;124;03m\"\"\"\u001B[39;00m\n\u001B[1;32m     63\u001B[0m \u001B[38;5;124;03m    In a scatter plot, each row of `data_frame` is represented by a symbol\u001B[39;00m\n\u001B[1;32m     64\u001B[0m \u001B[38;5;124;03m    mark in 2D space.\u001B[39;00m\n\u001B[1;32m     65\u001B[0m \u001B[38;5;124;03m    \"\"\"\u001B[39;00m\n\u001B[0;32m---> 66\u001B[0m     \u001B[38;5;28;01mreturn\u001B[39;00m \u001B[43mmake_figure\u001B[49m\u001B[43m(\u001B[49m\u001B[43margs\u001B[49m\u001B[38;5;241;43m=\u001B[39;49m\u001B[38;5;28;43mlocals\u001B[39;49m\u001B[43m(\u001B[49m\u001B[43m)\u001B[49m\u001B[43m,\u001B[49m\u001B[43m \u001B[49m\u001B[43mconstructor\u001B[49m\u001B[38;5;241;43m=\u001B[39;49m\u001B[43mgo\u001B[49m\u001B[38;5;241;43m.\u001B[39;49m\u001B[43mScatter\u001B[49m\u001B[43m)\u001B[49m\n",
      "File \u001B[0;32m~/Desktop/ULEAD/MLDevOps/Proyecto_Final_MLOps/venv/lib/python3.11/site-packages/plotly/express/_core.py:2267\u001B[0m, in \u001B[0;36mmake_figure\u001B[0;34m(args, constructor, trace_patch, layout_patch)\u001B[0m\n\u001B[1;32m   2264\u001B[0m     \u001B[38;5;28;01melif\u001B[39;00m args[\u001B[38;5;124m\"\u001B[39m\u001B[38;5;124mecdfnorm\u001B[39m\u001B[38;5;124m\"\u001B[39m] \u001B[38;5;241m==\u001B[39m \u001B[38;5;124m\"\u001B[39m\u001B[38;5;124mpercent\u001B[39m\u001B[38;5;124m\"\u001B[39m:\n\u001B[1;32m   2265\u001B[0m         group[var] \u001B[38;5;241m=\u001B[39m \u001B[38;5;241m100.0\u001B[39m \u001B[38;5;241m*\u001B[39m group[var] \u001B[38;5;241m/\u001B[39m group_sum\n\u001B[0;32m-> 2267\u001B[0m patch, fit_results \u001B[38;5;241m=\u001B[39m \u001B[43mmake_trace_kwargs\u001B[49m\u001B[43m(\u001B[49m\n\u001B[1;32m   2268\u001B[0m \u001B[43m    \u001B[49m\u001B[43margs\u001B[49m\u001B[43m,\u001B[49m\u001B[43m \u001B[49m\u001B[43mtrace_spec\u001B[49m\u001B[43m,\u001B[49m\u001B[43m \u001B[49m\u001B[43mgroup\u001B[49m\u001B[43m,\u001B[49m\u001B[43m \u001B[49m\u001B[43mmapping_labels\u001B[49m\u001B[38;5;241;43m.\u001B[39;49m\u001B[43mcopy\u001B[49m\u001B[43m(\u001B[49m\u001B[43m)\u001B[49m\u001B[43m,\u001B[49m\u001B[43m \u001B[49m\u001B[43msizeref\u001B[49m\n\u001B[1;32m   2269\u001B[0m \u001B[43m\u001B[49m\u001B[43m)\u001B[49m\n\u001B[1;32m   2270\u001B[0m trace\u001B[38;5;241m.\u001B[39mupdate(patch)\n\u001B[1;32m   2271\u001B[0m \u001B[38;5;28;01mif\u001B[39;00m fit_results \u001B[38;5;129;01mis\u001B[39;00m \u001B[38;5;129;01mnot\u001B[39;00m \u001B[38;5;28;01mNone\u001B[39;00m:\n",
      "File \u001B[0;32m~/Desktop/ULEAD/MLDevOps/Proyecto_Final_MLOps/venv/lib/python3.11/site-packages/plotly/express/_core.py:361\u001B[0m, in \u001B[0;36mmake_trace_kwargs\u001B[0;34m(args, trace_spec, trace_data, mapping_labels, sizeref)\u001B[0m\n\u001B[1;32m    359\u001B[0m trace_patch[\u001B[38;5;124m\"\u001B[39m\u001B[38;5;124mx\u001B[39m\u001B[38;5;124m\"\u001B[39m] \u001B[38;5;241m=\u001B[39m sorted_trace_data[args[\u001B[38;5;124m\"\u001B[39m\u001B[38;5;124mx\u001B[39m\u001B[38;5;124m\"\u001B[39m]][non_missing]\n\u001B[1;32m    360\u001B[0m trendline_function \u001B[38;5;241m=\u001B[39m trendline_functions[attr_value]\n\u001B[0;32m--> 361\u001B[0m y_out, hover_header, fit_results \u001B[38;5;241m=\u001B[39m \u001B[43mtrendline_function\u001B[49m\u001B[43m(\u001B[49m\n\u001B[1;32m    362\u001B[0m \u001B[43m    \u001B[49m\u001B[43margs\u001B[49m\u001B[43m[\u001B[49m\u001B[38;5;124;43m\"\u001B[39;49m\u001B[38;5;124;43mtrendline_options\u001B[39;49m\u001B[38;5;124;43m\"\u001B[39;49m\u001B[43m]\u001B[49m\u001B[43m,\u001B[49m\n\u001B[1;32m    363\u001B[0m \u001B[43m    \u001B[49m\u001B[43msorted_trace_data\u001B[49m\u001B[43m[\u001B[49m\u001B[43margs\u001B[49m\u001B[43m[\u001B[49m\u001B[38;5;124;43m\"\u001B[39;49m\u001B[38;5;124;43mx\u001B[39;49m\u001B[38;5;124;43m\"\u001B[39;49m\u001B[43m]\u001B[49m\u001B[43m]\u001B[49m\u001B[43m,\u001B[49m\n\u001B[1;32m    364\u001B[0m \u001B[43m    \u001B[49m\u001B[43mx\u001B[49m\u001B[43m,\u001B[49m\n\u001B[1;32m    365\u001B[0m \u001B[43m    \u001B[49m\u001B[43my\u001B[49m\u001B[43m,\u001B[49m\n\u001B[1;32m    366\u001B[0m \u001B[43m    \u001B[49m\u001B[43margs\u001B[49m\u001B[43m[\u001B[49m\u001B[38;5;124;43m\"\u001B[39;49m\u001B[38;5;124;43mx\u001B[39;49m\u001B[38;5;124;43m\"\u001B[39;49m\u001B[43m]\u001B[49m\u001B[43m,\u001B[49m\n\u001B[1;32m    367\u001B[0m \u001B[43m    \u001B[49m\u001B[43margs\u001B[49m\u001B[43m[\u001B[49m\u001B[38;5;124;43m\"\u001B[39;49m\u001B[38;5;124;43my\u001B[39;49m\u001B[38;5;124;43m\"\u001B[39;49m\u001B[43m]\u001B[49m\u001B[43m,\u001B[49m\n\u001B[1;32m    368\u001B[0m \u001B[43m    \u001B[49m\u001B[43mnon_missing\u001B[49m\u001B[43m,\u001B[49m\n\u001B[1;32m    369\u001B[0m \u001B[43m\u001B[49m\u001B[43m)\u001B[49m\n\u001B[1;32m    370\u001B[0m \u001B[38;5;28;01massert\u001B[39;00m \u001B[38;5;28mlen\u001B[39m(y_out) \u001B[38;5;241m==\u001B[39m \u001B[38;5;28mlen\u001B[39m(\n\u001B[1;32m    371\u001B[0m     trace_patch[\u001B[38;5;124m\"\u001B[39m\u001B[38;5;124mx\u001B[39m\u001B[38;5;124m\"\u001B[39m]\n\u001B[1;32m    372\u001B[0m ), \u001B[38;5;124m\"\u001B[39m\u001B[38;5;124mmissing-data-handling failure in trendline code\u001B[39m\u001B[38;5;124m\"\u001B[39m\n\u001B[1;32m    373\u001B[0m trace_patch[\u001B[38;5;124m\"\u001B[39m\u001B[38;5;124my\u001B[39m\u001B[38;5;124m\"\u001B[39m] \u001B[38;5;241m=\u001B[39m y_out\n",
      "File \u001B[0;32m~/Desktop/ULEAD/MLDevOps/Proyecto_Final_MLOps/venv/lib/python3.11/site-packages/plotly/express/trendline_functions/__init__.py:43\u001B[0m, in \u001B[0;36mols\u001B[0;34m(trendline_options, x_raw, x, y, x_label, y_label, non_missing)\u001B[0m\n\u001B[1;32m     37\u001B[0m     \u001B[38;5;28;01mif\u001B[39;00m k \u001B[38;5;129;01mnot\u001B[39;00m \u001B[38;5;129;01min\u001B[39;00m valid_options:\n\u001B[1;32m     38\u001B[0m         \u001B[38;5;28;01mraise\u001B[39;00m \u001B[38;5;167;01mValueError\u001B[39;00m(\n\u001B[1;32m     39\u001B[0m             \u001B[38;5;124m\"\u001B[39m\u001B[38;5;124mOLS trendline_options keys must be one of [\u001B[39m\u001B[38;5;132;01m%s\u001B[39;00m\u001B[38;5;124m] but got \u001B[39m\u001B[38;5;124m'\u001B[39m\u001B[38;5;132;01m%s\u001B[39;00m\u001B[38;5;124m'\u001B[39m\u001B[38;5;124m\"\u001B[39m\n\u001B[1;32m     40\u001B[0m             \u001B[38;5;241m%\u001B[39m (\u001B[38;5;124m\"\u001B[39m\u001B[38;5;124m, \u001B[39m\u001B[38;5;124m\"\u001B[39m\u001B[38;5;241m.\u001B[39mjoin(valid_options), k)\n\u001B[1;32m     41\u001B[0m         )\n\u001B[0;32m---> 43\u001B[0m \u001B[38;5;28;01mimport\u001B[39;00m \u001B[38;5;21;01mstatsmodels\u001B[39;00m\u001B[38;5;21;01m.\u001B[39;00m\u001B[38;5;21;01mapi\u001B[39;00m \u001B[38;5;28;01mas\u001B[39;00m \u001B[38;5;21;01msm\u001B[39;00m\n\u001B[1;32m     45\u001B[0m add_constant \u001B[38;5;241m=\u001B[39m trendline_options\u001B[38;5;241m.\u001B[39mget(\u001B[38;5;124m\"\u001B[39m\u001B[38;5;124madd_constant\u001B[39m\u001B[38;5;124m\"\u001B[39m, \u001B[38;5;28;01mTrue\u001B[39;00m)\n\u001B[1;32m     46\u001B[0m log_x \u001B[38;5;241m=\u001B[39m trendline_options\u001B[38;5;241m.\u001B[39mget(\u001B[38;5;124m\"\u001B[39m\u001B[38;5;124mlog_x\u001B[39m\u001B[38;5;124m\"\u001B[39m, \u001B[38;5;28;01mFalse\u001B[39;00m)\n",
      "\u001B[0;31mModuleNotFoundError\u001B[0m: No module named 'statsmodels'"
     ]
    }
   ],
   "source": [
    "figure = px.scatter(data_frame = data, \n",
    "                    x=\"Delivery_person_Age\",\n",
    "                    y=\"Time_taken(min)\", \n",
    "                    size=\"Time_taken(min)\", \n",
    "                    color = \"distance\",\n",
    "                    trendline=\"ols\", \n",
    "                    title = \"Relationship Between Time Taken and Age\")\n",
    "figure.show()"
   ],
   "metadata": {
    "collapsed": false,
    "ExecuteTime": {
     "end_time": "2024-04-25T00:17:50.601229Z",
     "start_time": "2024-04-25T00:17:50.456486Z"
    }
   },
   "id": "fe0dc3c3bfdb09e4",
   "execution_count": 18
  },
  {
   "cell_type": "code",
   "outputs": [],
   "source": [
    "figure = px.scatter(data_frame = data, \n",
    "                    x=\"Delivery_person_Ratings\",\n",
    "                    y=\"Time_taken(min)\", \n",
    "                    size=\"Time_taken(min)\", \n",
    "                    color = \"distance\",\n",
    "                    trendline=\"ols\", \n",
    "                    title = \"Relationship Between Time Taken and Ratings\")\n",
    "figure.show()"
   ],
   "metadata": {
    "collapsed": false
   },
   "id": "80b3940735d67ea1"
  },
  {
   "cell_type": "markdown",
   "source": [
    "# Create Train and Test datasets"
   ],
   "metadata": {
    "collapsed": false
   },
   "id": "dbc265c3ef6b867a"
  },
  {
   "cell_type": "code",
   "outputs": [],
   "source": [
    "## Variables used to predict\n",
    "\n",
    "x = np.array(data[[\"Delivery_person_Age\", \n",
    "                   \"Delivery_person_Ratings\", \n",
    "                   \"distance\"]])\n",
    "## Target Variable\n",
    "y = np.array(data[[\"Time_taken(min)\"]])\n",
    "\n",
    "x_train, x_test, y_train, y_test = train_test_split(x, y, \n",
    "                                                test_size=0.20, \n",
    "                                                random_state=42)"
   ],
   "metadata": {
    "collapsed": false
   },
   "id": "c8b82b9b9712e3f1"
  },
  {
   "cell_type": "markdown",
   "source": [
    "# Model Creation"
   ],
   "metadata": {
    "collapsed": false
   },
   "id": "dca35a0a11cdc033"
  },
  {
   "cell_type": "code",
   "outputs": [],
   "source": [
    "def create_lstm_model(optimizer='adam'):\n",
    "    model = Sequential()\n",
    "    model.add(LSTM(128, return_sequences=True, input_shape=(x_train.shape[1], 1)))\n",
    "    model.add(LSTM(64, return_sequences=False))\n",
    "    model.add(Dense(25))\n",
    "    model.add(Dense(1))\n",
    "    model.compile(loss='mean_squared_error', optimizer=optimizer)\n",
    "    return model"
   ],
   "metadata": {
    "collapsed": false,
    "ExecuteTime": {
     "end_time": "2024-04-25T00:14:01.432845Z",
     "start_time": "2024-04-25T00:14:01.421618Z"
    }
   },
   "id": "be869aff50f94358",
   "execution_count": 10
  },
  {
   "cell_type": "code",
   "outputs": [],
   "source": [
    "# Define the pipeline\n",
    "pipeline = Pipeline([\n",
    "    ('scaler', StandardScaler()),\n",
    "    ('lstm', KerasRegressor(build_fn=create_lstm_model, verbose=0))\n",
    "])\n",
    "\n",
    "# Define hyperparameters for grid search\n",
    "param_grid = {\n",
    "    'lstm__epochs': [50, 100],\n",
    "    'lstm__batch_size': [32, 64],\n",
    "    'lstm__optimizer': ['adam', 'rmsprop']\n",
    "}\n",
    "\n",
    "# Perform grid search\n",
    "grid_search = GridSearchCV(estimator=pipeline, param_grid=param_grid, cv=3)\n",
    "\n",
    "y_pred = grid_search.fit(x_train, y_train)"
   ],
   "metadata": {
    "collapsed": false
   },
   "id": "35e662279404653d"
  },
  {
   "cell_type": "code",
   "outputs": [],
   "source": [
    "\n",
    "# Calculate Mean Absolute Error (MAE)\n",
    "mae = mean_absolute_error(y_test, y_pred)\n",
    "\n",
    "# Calculate Mean Squared Error (MSE)\n",
    "mse = mean_squared_error(y_test, y_pred)\n",
    "\n",
    "# Calculate R-squared (R²)\n",
    "r_squared = r2_score(y_test, y_pred)\n",
    "\n",
    "print(\"Mean Absolute Error (MAE):\", mae)\n",
    "print(\"Mean Squared Error (MSE):\", mse)\n",
    "print(\"R-squared (R²):\", r_squared)"
   ],
   "metadata": {
    "collapsed": false
   },
   "id": "417cf97027891940"
  }
 ],
 "metadata": {
  "kernelspec": {
   "display_name": "Python 3",
   "language": "python",
   "name": "python3"
  },
  "language_info": {
   "codemirror_mode": {
    "name": "ipython",
    "version": 2
   },
   "file_extension": ".py",
   "mimetype": "text/x-python",
   "name": "python",
   "nbconvert_exporter": "python",
   "pygments_lexer": "ipython2",
   "version": "2.7.6"
  }
 },
 "nbformat": 4,
 "nbformat_minor": 5
}
